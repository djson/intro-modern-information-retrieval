{
 "cells": [
  {
   "cell_type": "markdown",
   "metadata": {
    "collapsed": true
   },
   "source": [
    "# \n",
    "\n",
    "Term Frequency(용어 빈도) : 문헌 내 용서 빈도 횟수\n",
    "Document Frequency(문헌 빈도) : 전체 문헌 컬랙션 내 \n"
   ]
  },
  {
   "cell_type": "markdown",
   "metadata": {
    "collapsed": true
   },
   "source": [
    "총 문헌 수 : 806,791\n",
    "\n",
    "| term      | Doc1 | Doc2 | Doc3 | DF     |\n",
    "|-----------|------|------|------|--------|\n",
    "| car       | 27   | 4    | 24   | 18,165 |\n",
    "| auto      | 3    | 33   | 0    | 6,723  |\n",
    "| insurance | 0    | 33   | 29   | 19,241 |\n",
    "| best      | 14   | 0    | 17   | 25,235 |\n"
   ]
  },
  {
   "cell_type": "code",
   "execution_count": null,
   "metadata": {},
   "outputs": [],
   "source": [
    "def jaccard_index(first_set: Set, second_set: Set) -> Set:\n",
    "    # If both sets are empty, jaccard index is defined to be 1\n",
    "    index = 1.0\n",
    "    if first_set or second_set:\n",
    "        index = float(len(first_set.intersection(second_set))) / len(first_set.union(second_set))\n",
    "        index = float(\"{0:.3f}\".format(index))\n",
    "        return index\n",
    "\n",
    "\n",
    "def main(first_set, second_set):\n",
    "    res = jaccard_index(first_set, second_set)\n",
    "    print(\"\\n first set: {first_set}\\n\"\n",
    "          \"second set: {second_set}\\n\"\n",
    "          \"jaccard_index: {res}\"\n",
    "          .format(first_set=first_set, second_set=second_set, res=res))\n",
    "    return res"
   ]
  },
  {
   "cell_type": "code",
   "execution_count": null,
   "metadata": {},
   "outputs": [],
   "source": []
  }
 ],
 "metadata": {
  "kernelspec": {
   "display_name": "Python 3",
   "language": "python",
   "name": "python3"
  },
  "language_info": {
   "codemirror_mode": {
    "name": "ipython",
    "version": 3
   },
   "file_extension": ".py",
   "mimetype": "text/x-python",
   "name": "python",
   "nbconvert_exporter": "python",
   "pygments_lexer": "ipython3",
   "version": "3.6.1"
  }
 },
 "nbformat": 4,
 "nbformat_minor": 2
}
